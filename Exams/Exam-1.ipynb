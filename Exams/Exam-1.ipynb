{
 "cells": [
  {
   "cell_type": "code",
   "execution_count": 1,
   "metadata": {},
   "outputs": [
    {
     "name": "stdout",
     "output_type": "stream",
     "text": [
      "[[2, 2], [2, 2], [2, 2]]\n"
     ]
    }
   ],
   "source": [
    "# Answer to question 2a\n",
    "# Function to initialize a list of list and put value in it.\n",
    "\n",
    "def constant(n,m,c):\n",
    "    out = [[c for x in range(n)] for y in range(m)]\n",
    "    \n",
    "    return out\n",
    "\n",
    "# Testing the function constant.\n",
    "res = constant(2,3,2)\n",
    "print res"
   ]
  },
  {
   "cell_type": "code",
   "execution_count": 2,
   "metadata": {},
   "outputs": [
    {
     "name": "stdout",
     "output_type": "stream",
     "text": [
      "[[0.0, 0.0, 0.0], [0.0, 0.0, 0.0], [0.0, 0.0, 0.0]]\n",
      "[[1.0, 1.0, 1.0], [1.0, 1.0, 1.0], [1.0, 1.0, 1.0]]\n"
     ]
    }
   ],
   "source": [
    "# Answer to question 2b\n",
    "# Fuction to initialize a matrix and put values one or zero\n",
    "\n",
    "# Function to initialize a matrix and fill with floating number 0\n",
    "def zeros(n,m):\n",
    "    out = constant(n,m,0.0)\n",
    "    return out\n",
    "\n",
    "\n",
    "# Function to initialize a matrix and fill with floating number 1\n",
    "def ones(n,m):\n",
    "    out = constant(n,m,1.0)\n",
    "    return out\n",
    "\n",
    "# Testing functions ones and zeros\n",
    "res = zeros(3,3)\n",
    "res_1 = ones(3,3)\n",
    "print res\n",
    "print res_1"
   ]
  },
  {
   "cell_type": "code",
   "execution_count": 3,
   "metadata": {},
   "outputs": [
    {
     "name": "stdout",
     "output_type": "stream",
     "text": [
      "[[1, 0, 0], [0, 1, 0], [0, 0, 1]]\n"
     ]
    }
   ],
   "source": [
    "# Answer to question 2c\n",
    "# Function to return eye of matrix n by n\n",
    "\n",
    "def eye(n):\n",
    "    out = constant(n,n,0)\n",
    "    for x in range(len(out)):\n",
    "        for y in range(len(out[x])):\n",
    "            if x == y:\n",
    "                out[x][y] =1\n",
    "                \n",
    "    return out\n",
    "\n",
    "# Testing the function to get eye(n)\n",
    "res = eye(3)\n",
    "print res"
   ]
  },
  {
   "cell_type": "code",
   "execution_count": 22,
   "metadata": {},
   "outputs": [
    {
     "name": "stdout",
     "output_type": "stream",
     "text": [
      "True\n"
     ]
    }
   ],
   "source": [
    "# Answer to question 3a\n",
    "def shape(M):\n",
    "    col_count = len(M[0])\n",
    "    result = True\n",
    "    for x in range(len(M)):\n",
    "        if col_count != len(M[x]):\n",
    "            result = False\n",
    "            \n",
    "    return result\n",
    "\n",
    "# Testing the Function\n",
    "M = [[1,2],[3,4],[5,6]]\n",
    "res = shape(M)\n",
    "print res\n"
   ]
  },
  {
   "cell_type": "code",
   "execution_count": 5,
   "metadata": {},
   "outputs": [
    {
     "name": "stdout",
     "output_type": "stream",
     "text": [
      "[3, 6]\n",
      "[[4, 5, 6]]\n"
     ]
    }
   ],
   "source": [
    "# Answer to question 3b\n",
    "# Function to return the nth row and nth column of Matrix M\n",
    "\n",
    "def row(M,n):\n",
    "    row = []\n",
    "    for x in range(len(M)):\n",
    "        if x == n-1:\n",
    "            row.append(M[x])\n",
    "            \n",
    "    return row\n",
    "\n",
    "def column(M,n):\n",
    "    col = []\n",
    "    for x in range(len(M)):\n",
    "        for y in range(len(M[x])):\n",
    "            if y == n-1:\n",
    "                col.append(M[x][y])\n",
    "            \n",
    "    return col\n",
    "\n",
    "\n",
    "# Testing the function row and column\n",
    "res = [[1,2,3],[4,5,6]]\n",
    "res_1 = column(res,3)\n",
    "res_2 = row(res,2)\n",
    "print res_1\n",
    "print res_2\n",
    "        \n",
    "        "
   ]
  },
  {
   "cell_type": "code",
   "execution_count": 19,
   "metadata": {},
   "outputs": [
    {
     "name": "stdout",
     "output_type": "stream",
     "text": [
      "[[0, 0, 0], [0, 0, 0]]\n"
     ]
    }
   ],
   "source": [
    "# Answer to question 3c\n",
    "# Function to return a block of matrix \n",
    "\n",
    "def block(M,n_0,n_1,m_0,m_1):\n",
    "    out = [[0 for x in range(n_1)] for y in range(m_1)]\n",
    "    print out\n",
    "    \n",
    "    \n",
    "    \n",
    "    for x in range(n_0-1,n_1-1):\n",
    "        for y in range(m_0-1,m_1-1):\n",
    "            out.append(M[x][y])\n",
    "            \n",
    "    return out\n",
    "\n",
    "# Testing the function that returns block of matrix\n",
    "res = [[1,2,3],[4,5,6],[7,8,9]]\n",
    "res_1 = block(res,2,3,1,2)\n",
    "\n",
    "    \n",
    "\n"
   ]
  },
  {
   "cell_type": "code",
   "execution_count": 24,
   "metadata": {},
   "outputs": [
    {
     "name": "stdout",
     "output_type": "stream",
     "text": [
      "[[1, 3, 5], [2, 4, 6]]\n"
     ]
    }
   ],
   "source": [
    "# Answer to question 4a\n",
    "# Function to return the transpose of the Matrix\n",
    "\n",
    "def transpose(M):\n",
    "    \n",
    "    if shape(M):\n",
    "        out = [[M[j][i] for j in range(len(M))] for i in range(len(M[0]))] \n",
    "        return out\n",
    "    else:\n",
    "        return 'Cant Transform'\n",
    "\n",
    "# Testing the transpose function\n",
    "m = [[1,2],[3,4],[5,6]]\n",
    "res = transpose(m)\n",
    "print res\n",
    "    "
   ]
  },
  {
   "cell_type": "code",
   "execution_count": 8,
   "metadata": {},
   "outputs": [
    {
     "name": "stdout",
     "output_type": "stream",
     "text": [
      "[[2, 4], [6, 8], [10, 12]]\n"
     ]
    }
   ],
   "source": [
    "# Answer to question 4b\n",
    "# Function to return a matrix that is scalar multiple of cM\n",
    "\n",
    "def scalarmul(M,c):\n",
    "    for x in range(len(M)):\n",
    "        for y in range(len(M[x])):\n",
    "            M[x][y] = c * M[x][y]\n",
    "    return M\n",
    "\n",
    "# Testing the function of scalarmul\n",
    "M = [[1,2],[3,4],[5,6]]\n",
    "res = scalarmul(M,2)\n",
    "print res\n",
    "    "
   ]
  },
  {
   "cell_type": "code",
   "execution_count": 9,
   "metadata": {},
   "outputs": [
    {
     "name": "stdout",
     "output_type": "stream",
     "text": [
      "[[2, 5], [6, 8], [10, 12]]\n"
     ]
    }
   ],
   "source": [
    "# Answer to question 4c\n",
    "# Function that adds one Matrix with the other\n",
    "def add(M,N):\n",
    "    row_size = False\n",
    "    col_size = True\n",
    "    if len(M) == len(N):\n",
    "        row_size = True\n",
    "\n",
    "        \n",
    "    for x in range(len(M)):\n",
    "        if len(M[x]) != len(N[x]):\n",
    "            col_size = False\n",
    "            \n",
    "    if row_size == True and col_size == True:\n",
    "        for x in range(len(M)):\n",
    "            for y in range(len(M[x])):\n",
    "                M[x][y] = M[x][y] + N[x][y]\n",
    "        return M\n",
    "    else:\n",
    "        return None\n",
    "\n",
    "# Testing the fucntion\n",
    "M = [[1,2],[3,4],[5,6]]\n",
    "N = [[1,3],[3,4],[5,6]]\n",
    "res = add(M,N)\n",
    "print res            "
   ]
  },
  {
   "cell_type": "code",
   "execution_count": 10,
   "metadata": {},
   "outputs": [
    {
     "name": "stdout",
     "output_type": "stream",
     "text": [
      "[[0, -1], [0, 0], [0, 0]]\n"
     ]
    }
   ],
   "source": [
    "# Answer to question 4d\n",
    "# Function that subtracts one Matrix with the other M-N\n",
    "def sub(M,N):\n",
    "    row_size = False\n",
    "    col_size = True\n",
    "    if len(M) == len(N):\n",
    "        row_size = True\n",
    "\n",
    "        \n",
    "    for x in range(len(M)):\n",
    "        if len(M[x]) != len(N[x]):\n",
    "            col_size = False\n",
    "            \n",
    "    if row_size == True and col_size == True:\n",
    "        for x in range(len(M)):\n",
    "            for y in range(len(M[x])):\n",
    "                M[x][y] = M[x][y] - N[x][y]\n",
    "        return M\n",
    "    else:\n",
    "        return None\n",
    "\n",
    "# Testing the fucntion\n",
    "M = [[1,2],[3,4],[5,6]]\n",
    "N = [[1,3],[3,4],[5,6]]\n",
    "res = sub(M,N)\n",
    "print res\n"
   ]
  },
  {
   "cell_type": "code",
   "execution_count": 11,
   "metadata": {},
   "outputs": [
    {
     "name": "stdout",
     "output_type": "stream",
     "text": [
      "None\n"
     ]
    }
   ],
   "source": [
    "# Answer to question 4e\n",
    "# Function that returns a matrix that is element-wise product of matrix MN\n",
    "def elementmult(M,N):\n",
    "    row_size = False\n",
    "    col_size = True\n",
    "    if len(M) == len(N):\n",
    "        row_size = True\n",
    "\n",
    "        \n",
    "    for x in range(len(M)):\n",
    "        if len(M[x]) != len(N[x]):\n",
    "            col_size = False\n",
    "            \n",
    "    if row_size == True and col_size == True:\n",
    "        for x in range(len(M)):\n",
    "            for y in range(len(M[x])):\n",
    "                M[x][y] = M[x][y] * N[x][y]\n",
    "        return M\n",
    "    else:\n",
    "        return None\n",
    "\n",
    "# Testing the fucntion\n",
    "M = [[1,2],[3,4],[5]]\n",
    "N = [[1,3],[3,4],[5,6]]\n",
    "res = elementmult(M,N)\n",
    "print res"
   ]
  },
  {
   "cell_type": "code",
   "execution_count": 12,
   "metadata": {},
   "outputs": [
    {
     "name": "stdout",
     "output_type": "stream",
     "text": [
      "[[30, 36, 42], [66, 81, 96], [102, 126, 150]]\n"
     ]
    }
   ],
   "source": [
    "# Answer to question 4f\n",
    "# Function that returns a matrix that is product of two Matrix\n",
    "def matmult(M,N):\n",
    "    result = [[sum(a * b for a, b in zip(A_row, B_col)) for B_col in zip(*N)] for A_row in M] \n",
    "    return result\n",
    "\n",
    "# Testing the Function\n",
    "M = [[1,2,3],[4,5,6],[7,8,9]]\n",
    "N = [[1,2,3],[4,5,6],[7,8,9]]\n",
    "res = matmult(M,N)\n",
    "print res"
   ]
  },
  {
   "cell_type": "code",
   "execution_count": 32,
   "metadata": {},
   "outputs": [
    {
     "name": "stdout",
     "output_type": "stream",
     "text": [
      "5.0\n",
      "[1, 1, 4, 4]\n"
     ]
    }
   ],
   "source": [
    "# Answer to question 4g\n",
    "# Function that returns dot and outer of 1-D vector\n",
    "def dot(A,B):\n",
    "    product = 0.0\n",
    "    if len(A) == len(B):\n",
    "        for x in range(len(A)):\n",
    "            product = product + (A[x] * B[x])\n",
    "        return product\n",
    "    else:\n",
    "        return 'Cant compute'\n",
    "    \n",
    "    \n",
    "def outer(A,B):\n",
    "    out =[]\n",
    "    result_2 = []\n",
    "    for x in range(len(A)):\n",
    "        for y in range(len(B)):\n",
    "            out.append(A[x] * B[x])\n",
    "        \n",
    "    return out\n",
    "            \n",
    "    \n",
    "    \n",
    "# Testing the dot Function\n",
    "A = [1,2]\n",
    "B = [1,2]\n",
    "res = dot(A,B)\n",
    "print res\n",
    "res_1 = outer(A,B)\n",
    "print res_1\n",
    "            \n"
   ]
  },
  {
   "cell_type": "code",
   "execution_count": 13,
   "metadata": {},
   "outputs": [
    {
     "name": "stdout",
     "output_type": "stream",
     "text": [
      "18.0\n"
     ]
    }
   ],
   "source": [
    "# Answer to question 5a\n",
    "# Function to compute i-th norm of a Matrix\n",
    "import numpy as np\n",
    "def norm(M,i):\n",
    "    m = np.matrix(M)\n",
    "    print np.linalg.norm(m,1)\n",
    "\n",
    "# Testing the Function\n",
    "M = [[1,2,3],[4,5,6],[7,8,9]]\n",
    "res = norm(M,1)\n"
   ]
  },
  {
   "cell_type": "code",
   "execution_count": 15,
   "metadata": {},
   "outputs": [
    {
     "name": "stdout",
     "output_type": "stream",
     "text": [
      "Cant inverse\n"
     ]
    }
   ],
   "source": [
    "# Answer to question 6a\n",
    "# Function to find inverse of a Matrix\n",
    "import numpy as np\n",
    "from numpy.linalg import inv\n",
    "def inverse(M):\n",
    "    \n",
    "    a = np.array(M)\n",
    "    if np.linalg.det(a) > 0:\n",
    "        ainv = inv(np.matrix(M))\n",
    "        return ainv\n",
    "    else:\n",
    "        return 'Cant inverse'\n",
    "\n",
    "# Testing the Function\n",
    "M = [[1,2,3],[4,5,6],[7,8,9]]\n",
    "res = inverse(M)\n",
    "print res\n",
    "\n",
    "    \n",
    "\n"
   ]
  }
 ],
 "metadata": {
  "kernelspec": {
   "display_name": "Python 2",
   "language": "python",
   "name": "python2"
  },
  "language_info": {
   "codemirror_mode": {
    "name": "ipython",
    "version": 2
   },
   "file_extension": ".py",
   "mimetype": "text/x-python",
   "name": "python",
   "nbconvert_exporter": "python",
   "pygments_lexer": "ipython2",
   "version": "2.7.13"
  }
 },
 "nbformat": 4,
 "nbformat_minor": 2
}
