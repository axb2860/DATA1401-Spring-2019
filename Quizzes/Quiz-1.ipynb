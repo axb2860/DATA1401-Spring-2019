{
 "cells": [
  {
   "cell_type": "code",
   "execution_count": 18,
   "metadata": {
    "collapsed": true
   },
   "outputs": [],
   "source": [
    "import math\n",
    "import random\n",
    "\n",
    "def generate_normal (N):\n",
    "    out = []\n",
    "    \n",
    "    for x in range(1,N):\n",
    "        U1 = random.random()\n",
    "        U2 = random.random()\n",
    "        Z1 = math.sqrt(-2 * math.log(U1)) * math.cos(2 * math.pi * U2)\n",
    "        out.append(Z1)\n",
    "    \n",
    "    return out\n",
    "\n",
    "\n",
    "    \n",
    "    \n",
    "    \n",
    "    \n",
    "    \n",
    "    \n",
    "    \n",
    "    \n",
    "    "
   ]
  },
  {
   "cell_type": "code",
   "execution_count": 23,
   "metadata": {},
   "outputs": [
    {
     "name": "stdout",
     "output_type": "stream",
     "text": [
      "0.967749563728\n"
     ]
    }
   ],
   "source": [
    "x = generate_normal(1000)\n",
    "\n",
    "def mean(x):\n",
    "    return sum(x)/float(len(x))\n",
    "\n",
    "def variance(x):\n",
    "    return sum(map(lambda y: y**2,x))/float(len(x) - mean(x)**2)\n",
    "\n",
    "\n",
    "res = variance(x)\n",
    "print res\n",
    "    "
   ]
  },
  {
   "cell_type": "code",
   "execution_count": null,
   "metadata": {
    "collapsed": true
   },
   "outputs": [],
   "source": []
  },
  {
   "cell_type": "code",
   "execution_count": null,
   "metadata": {
    "collapsed": true
   },
   "outputs": [],
   "source": []
  },
  {
   "cell_type": "code",
   "execution_count": null,
   "metadata": {
    "collapsed": true
   },
   "outputs": [],
   "source": []
  },
  {
   "cell_type": "code",
   "execution_count": null,
   "metadata": {
    "collapsed": true
   },
   "outputs": [],
   "source": []
  }
 ],
 "metadata": {
  "kernelspec": {
   "display_name": "Python 2",
   "language": "python",
   "name": "python2"
  },
  "language_info": {
   "codemirror_mode": {
    "name": "ipython",
    "version": 2
   },
   "file_extension": ".py",
   "mimetype": "text/x-python",
   "name": "python",
   "nbconvert_exporter": "python",
   "pygments_lexer": "ipython2",
   "version": "2.7.13"
  }
 },
 "nbformat": 4,
 "nbformat_minor": 2
}
