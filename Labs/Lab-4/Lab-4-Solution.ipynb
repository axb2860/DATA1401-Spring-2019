{
 "cells": [
  {
   "cell_type": "markdown",
   "metadata": {},
   "source": [
    "## Lab 4\n",
    "\n",
    "In this lab we will become familiar with distributions, histograms, and functional programming. \n",
    "\n",
    "\n",
    "### Uniform Distribution\n",
    "Lets start with generating some fake random data. You can get a random number between 0 and 1 using the python random module as follow:"
   ]
  },
  {
   "cell_type": "code",
   "execution_count": null,
   "metadata": {
    "collapsed": true
   },
   "outputs": [],
   "source": [
    "import random\n",
    "x=random.random()\n",
    "print \"The Value of x is\", x"
   ]
  },
  {
   "cell_type": "markdown",
   "metadata": {},
   "source": [
    "Everytime you call random, you will get a new number.\n",
    "\n",
    "*Exercise 1:* Using random, write a function `generate_uniform(N, mymin, mymax)`, that returns a python list containing N random numbers between specified minimum and maximum value. Note that you may want to quickly work out on paper how to turn numbers between 0 and 1 to between other values. "
   ]
  },
  {
   "cell_type": "code",
   "execution_count": 59,
   "metadata": {
    "collapsed": true
   },
   "outputs": [],
   "source": [
    "# Skeleton\n",
    "import random\n",
    "def generate_uniform(N,min,max):\n",
    "    out = []\n",
    "    for x in range(0,N):\n",
    "        out.append((random.random())*(max-min)+min)\n",
    "\n",
    "   \n",
    "    return out"
   ]
  },
  {
   "cell_type": "code",
   "execution_count": 60,
   "metadata": {},
   "outputs": [
    {
     "name": "stdout",
     "output_type": "stream",
     "text": [
      "Data Type: <type 'list'>\n",
      "Data Length: 1000\n",
      "Type of Data Contents: <type 'float'>\n",
      "Data Minimum: -9.98329801683\n",
      "Data Maximum: 9.99494535713\n"
     ]
    }
   ],
   "source": [
    "# Test you solution here\n",
    "data=generate_uniform(1000,-10,10)\n",
    "print \"Data Type:\", type(data)\n",
    "print \"Data Length:\", len(data)\n",
    "if len(data)>0: \n",
    "    print \"Type of Data Contents:\", type(data[0])\n",
    "    print \"Data Minimum:\", min(data)\n",
    "    print \"Data Maximum:\", max(data)"
   ]
  },
  {
   "cell_type": "markdown",
   "metadata": {},
   "source": [
    "*Exercise 2a:* \n",
    "Write a function that computes the mean of values in a list."
   ]
  },
  {
   "cell_type": "code",
   "execution_count": 61,
   "metadata": {},
   "outputs": [],
   "source": [
    "# Skeleton\n",
    "def mean(Data):\n",
    "    m=0.\n",
    "    \n",
    "    m = sum(Data)/ len(Data)\n",
    "    m = float(m)\n",
    "    \n",
    "    return m"
   ]
  },
  {
   "cell_type": "code",
   "execution_count": 62,
   "metadata": {},
   "outputs": [
    {
     "name": "stdout",
     "output_type": "stream",
     "text": [
      "Mean of Data: 0.306983272579\n"
     ]
    }
   ],
   "source": [
    "# Test your solution here\n",
    "data=generate_uniform(1000,-10,10)\n",
    "print \"Mean of Data:\", mean(data)"
   ]
  },
  {
   "cell_type": "markdown",
   "metadata": {},
   "source": [
    "*Exercise 2b:* \n",
    "Write a function that computes the variance of values in a list."
   ]
  },
  {
   "cell_type": "code",
   "execution_count": 63,
   "metadata": {
    "collapsed": true
   },
   "outputs": [],
   "source": [
    "# Skeleton\n",
    "def variance(Data):\n",
    "    m=0.\n",
    "    m = float(m)\n",
    "    m =  sum(map(lambda y: y**2,Data))/float(len(Data) - mean(Data)**2)\n",
    "    \n",
    "    return m"
   ]
  },
  {
   "cell_type": "code",
   "execution_count": 64,
   "metadata": {},
   "outputs": [
    {
     "name": "stdout",
     "output_type": "stream",
     "text": [
      "Variance of Data: 33.8526268955\n"
     ]
    }
   ],
   "source": [
    "# Test your solution here\n",
    "print \"Variance of Data:\", variance(data)"
   ]
  },
  {
   "cell_type": "markdown",
   "metadata": {},
   "source": [
    "## Histogramming"
   ]
  },
  {
   "cell_type": "markdown",
   "metadata": {},
   "source": [
    "*Exercise 3:* Write a function that bins the data so that you can create a histogram. An example of how to implement histogramming is the following logic:\n",
    "\n",
    "* User inputs a list of values `x` and optionally `n_bins` which defaults to 10.\n",
    "* If not supplied, find the minimum and maximum (`x_min`,`x_max`) of the values in x.\n",
    "* Determine the bin size (`bin_size`) by dividing the range of the function by the number of bins.\n",
    "* Create an empty list of zeros of size `n_bins`, call it `hist`.\n",
    "* Loop over the values in `x`\n",
    "    * Loop over the values in `hist` with index `i`:\n",
    "        * If x is between `x_min+i*bin_size` and `x_min+i*2*bin_size`, increment `hist[i].` \n",
    "        * For efficiency, try to use continue to goto the next bin and data point.\n",
    "* Return `hist` and the list corresponding of the bin edges (i.e. of `x_min+i*bin_size`).    "
   ]
  },
  {
   "cell_type": "code",
   "execution_count": 65,
   "metadata": {
    "collapsed": true
   },
   "outputs": [],
   "source": [
    "# Solution\n",
    "def histogram(x,n_bins=10,x_min=None,x_max=None):\n",
    "    x_max=round(max(x))\n",
    "    x_min=round(min(x)) \n",
    "    bin_size=((x_max-(x_min))/n_bins)\n",
    "    bin_edges=[0]*n_bins\n",
    "    hist=[0]*n_bins\n",
    "    for j in range (0,len(x)):\n",
    "        for i in range (0,n_bins):\n",
    "            if x[j]>(x_min+i*bin_size) and x[j]<(x_min+(i+1)*bin_size):\n",
    "                hist[i] +=1\n",
    "                bin_edges[i]=round(x_min+(i*bin_size),2)\n",
    "                continue\n",
    "    bin_edges=bin_edges+[x_max]\n",
    "    \n",
    "\n",
    "    return hist,bin_edges"
   ]
  },
  {
   "cell_type": "code",
   "execution_count": 66,
   "metadata": {},
   "outputs": [
    {
     "name": "stdout",
     "output_type": "stream",
     "text": [
      "[3, 9, 7, 14, 11, 9, 16, 5, 11, 15, 12, 12, 8, 4, 8, 7, 8, 12, 5, 11, 12, 14, 8, 13, 5, 7, 8, 10, 5, 18, 4, 11, 9, 9, 7, 7, 13, 9, 5, 13, 11, 15, 11, 7, 14, 6, 8, 11, 11, 10, 10, 8, 3, 9, 9, 19, 8, 9, 11, 15, 10, 13, 5, 15, 18, 11, 8, 6, 10, 9, 12, 9, 7, 5, 12, 17, 11, 6, 13, 8, 10, 7, 10, 7, 9, 6, 12, 17, 12, 13, 8, 12, 12, 11, 17, 8, 10, 7, 15, 13]\n"
     ]
    }
   ],
   "source": [
    "# Test your solution here\n",
    "h,b=histogram(data,100)\n",
    "print h"
   ]
  },
  {
   "cell_type": "markdown",
   "metadata": {},
   "source": [
    "*Exercise 4:* Write a function that uses the histogram function in the previous exercise to create a text-based \"graph\". For example the output could look like the following:\n",
    "```\n",
    "[  0,  9] : ######\n",
    "[  1,  2] : #####\n",
    "[  2,  3] : ######\n",
    "[  3,  4] : ####\n",
    "[  4,  5] : ####\n",
    "[  5,  6] : ######\n",
    "[  6,  7] : #####\n",
    "[  7,  8] : ######\n",
    "[  8,  9] : ####\n",
    "[  9, 10] : #####\n",
    "```\n",
    "\n",
    "Where each line corresponds to a bin and the number of `#`'s are proportional to the value of the data in the bin. "
   ]
  },
  {
   "cell_type": "code",
   "execution_count": 86,
   "metadata": {},
   "outputs": [],
   "source": [
    "# Solution\n",
    "def draw_histogram(h,b,n_bins=20,character=\"#\",max_character_per_line=20):\n",
    "    i=0\n",
    "    res=h\n",
    "    for x in range(len(h)):\n",
    "        if h[x]>max_character_per_line:\n",
    "            res[x]=max_character_per_line\n",
    "    while i<n_bins:\n",
    "        print \"[\",b[i],b[i+1],\"]: \",res[i]*character\n",
    "        i+=1\n",
    "\n",
    "    return\n",
    "     "
   ]
  },
  {
   "cell_type": "code",
   "execution_count": 87,
   "metadata": {},
   "outputs": [
    {
     "name": "stdout",
     "output_type": "stream",
     "text": [
      "[ -10.0 -9.0 ]:  ########################################\n",
      "[ -9.0 -8.0 ]:  ########################################\n",
      "[ -8.0 -7.0 ]:  ########################################\n",
      "[ -7.0 -6.0 ]:  ########################################\n",
      "[ -6.0 -5.0 ]:  ########################################\n",
      "[ -5.0 -4.0 ]:  ########################################\n",
      "[ -4.0 -3.0 ]:  ########################################\n",
      "[ -3.0 -2.0 ]:  ########################################\n",
      "[ -2.0 -1.0 ]:  ########################################\n",
      "[ -1.0 0.0 ]:  ########################################\n",
      "[ 0.0 1.0 ]:  #######################################\n",
      "[ 1.0 2.0 ]:  ########################################\n",
      "[ 2.0 3.0 ]:  ########################################\n",
      "[ 3.0 4.0 ]:  ########################################\n",
      "[ 4.0 5.0 ]:  ########################################\n",
      "[ 5.0 6.0 ]:  ########################################\n",
      "[ 6.0 7.0 ]:  ########################################\n",
      "[ 7.0 8.0 ]:  ########################################\n",
      "[ 8.0 9.0 ]:  ########################################\n",
      "[ 9.0 10.0 ]:  ########################################\n"
     ]
    }
   ],
   "source": [
    "# Test your solution here\n",
    "h,b=histogram(data,20)\n",
    "draw_histogram(h,b,20,'#',40)"
   ]
  },
  {
   "cell_type": "markdown",
   "metadata": {},
   "source": [
    "## Functional Programming\n",
    "\n",
    "*Exercise 5:* Write a function the applies a booling function (that returns true/false) to every element in data, and return a list of indices of elements where the result was true. Use this function to find the indices of entries greater than 0.5. "
   ]
  },
  {
   "cell_type": "code",
   "execution_count": 75,
   "metadata": {},
   "outputs": [],
   "source": [
    "def where(mylist,myfunc):\n",
    "    index= []\n",
    "    k =0\n",
    "    counter = True\n",
    "    \n",
    "    while counter == True:\n",
    "        try:\n",
    "            if myfunc[k] ==1:\n",
    "                index.append(k)\n",
    "            k+=1\n",
    "        except IndexError:\n",
    "            counter = False\n",
    "    return index\n",
    "    \n",
    "    \n",
    "    \n",
    "    \n",
    "    return out\n",
    "\n",
    "def booling(x):\n",
    "    out = []\n",
    "    \n",
    "    for y in range(len(x)):\n",
    "        if x[y] > 0.5:\n",
    "            out.append(True)\n",
    "        else:\n",
    "            out.append(False)\n",
    "    return out\n",
    "        "
   ]
  },
  {
   "cell_type": "code",
   "execution_count": 76,
   "metadata": {},
   "outputs": [
    {
     "name": "stdout",
     "output_type": "stream",
     "text": [
      "the value is greater than 0.5 at indices:  [0, 1, 6, 7, 10, 14, 16, 17, 18, 19, 20, 21, 22, 23, 24, 28, 36, 38, 41, 42, 45, 46, 47, 48, 49, 50, 51, 52, 53, 54, 55, 56, 59, 63, 67, 71, 78, 80, 81, 82, 85, 86, 88, 90, 91, 92, 95, 96, 99, 103, 104, 105, 107, 108, 110, 112, 114, 115, 116, 117, 119, 120, 124, 125, 126, 129, 130, 131, 132, 133, 134, 136, 142, 143, 144, 145, 149, 150, 153, 154, 158, 159, 161, 162, 165, 167, 169, 170, 174, 175, 179, 180, 184, 185, 187, 188, 189, 190, 191, 192, 193, 194, 195, 197, 198, 200, 204, 205, 209, 210, 211, 215, 216, 219, 225, 226, 228, 229, 230, 232, 233, 234, 235, 236, 237, 238, 239, 240, 241, 242, 243, 245, 247, 249, 254, 256, 259, 264, 266, 267, 268, 270, 271, 272, 273, 274, 275, 276, 277, 279, 284, 285, 287, 288, 289, 290, 291, 292, 294, 295, 296, 298, 302, 306, 307, 311, 313, 315, 319, 320, 321, 322, 324, 325, 328, 329, 332, 333, 337, 339, 340, 346, 348, 352, 353, 354, 355, 359, 366, 367, 369, 374, 376, 377, 379, 380, 382, 384, 385, 386, 387, 392, 394, 395, 396, 397, 399, 402, 404, 405, 406, 409, 411, 412, 415, 417, 420, 421, 422, 426, 430, 431, 435, 436, 440, 441, 444, 446, 448, 450, 453, 455, 456, 457, 462, 463, 464, 469, 471, 476, 479, 480, 481, 482, 483, 489, 490, 492, 494, 495, 496, 497, 498, 500, 501, 502, 505, 507, 508, 512, 514, 515, 517, 522, 523, 524, 527, 528, 529, 532, 533, 535, 538, 539, 540, 542, 545, 546, 547, 548, 552, 553, 555, 557, 560, 563, 564, 565, 567, 569, 571, 573, 576, 577, 579, 580, 582, 583, 584, 588, 594, 595, 604, 607, 610, 613, 615, 616, 617, 619, 622, 623, 624, 625, 629, 635, 636, 637, 638, 640, 642, 643, 644, 645, 646, 648, 649, 652, 655, 656, 658, 659, 660, 661, 663, 664, 665, 669, 670, 673, 676, 677, 678, 680, 681, 682, 683, 685, 688, 693, 699, 700, 701, 702, 704, 705, 707, 709, 711, 714, 715, 716, 718, 719, 720, 724, 726, 732, 737, 740, 746, 747, 748, 749, 750, 752, 753, 755, 760, 761, 762, 764, 765, 766, 769, 771, 773, 776, 777, 778, 779, 780, 782, 785, 786, 791, 793, 798, 800, 801, 802, 803, 804, 806, 808, 809, 811, 812, 815, 816, 819, 821, 822, 823, 824, 825, 826, 827, 829, 830, 833, 836, 838, 840, 841, 845, 846, 847, 848, 849, 850, 853, 855, 858, 859, 860, 862, 863, 864, 866, 868, 871, 873, 876, 877, 879, 882, 885, 887, 888, 889, 894, 900, 906, 907, 908, 910, 911, 914, 915, 918, 919, 920, 922, 923, 926, 927, 930, 931, 933, 934, 935, 936, 938, 939, 941, 945, 949, 950, 951, 952, 954, 956, 957, 958, 961, 962, 965, 966, 968, 969, 972, 973, 974, 975, 976, 977, 978, 979, 983, 990, 994, 995]\n"
     ]
    }
   ],
   "source": [
    "print \"the value is greater than 0.5 at indices: \",where(data,booling(data))"
   ]
  },
  {
   "cell_type": "markdown",
   "metadata": {},
   "source": [
    "*Exercise 6:* The inrange(mymin,mymax) function below returns a function that tests if it's input is between the specified values. Write corresponding functions that test:\n",
    "* Even\n",
    "* Odd\n",
    "* Greater than\n",
    "* Less than\n",
    "* Equal\n",
    "* Divisible by"
   ]
  },
  {
   "cell_type": "code",
   "execution_count": 96,
   "metadata": {},
   "outputs": [
    {
     "name": "stdout",
     "output_type": "stream",
     "text": [
      "True True False False False\n",
      "False False True True False\n"
     ]
    }
   ],
   "source": [
    "def in_range(mymin,mymax):\n",
    "    def testrange(x):\n",
    "        return x<mymax and x>=mymin\n",
    "    return testrange\n",
    "\n",
    "# Examples:\n",
    "F1=in_range(0,10)\n",
    "F2=in_range(10,20)\n",
    "\n",
    "# Test of in_range\n",
    "print F1(0), F1(1), F1(10), F1(15), F1(20)\n",
    "print F2(0), F2(1), F2(10), F2(15), F2(20)\n",
    "\n"
   ]
  },
  {
   "cell_type": "code",
   "execution_count": 98,
   "metadata": {},
   "outputs": [],
   "source": [
    "def even(x):\n",
    "    if x%2==0:\n",
    "        print 'Even'\n",
    "        return True\n",
    "    else:\n",
    "        print 'Not Even'\n",
    "        return False\n",
    "    \n",
    "def odd(x):\n",
    "    if x%2!=0:\n",
    "        print 'Odd'\n",
    "        return True\n",
    "    else:\n",
    "        print 'Not Odd'\n",
    "        return False\n",
    "\n",
    "def greater_than(x):\n",
    "    res = input('Enter a number: ')\n",
    "    if x > res:\n",
    "        print 'Yes the number is greater that user input number.'\n",
    "        return True\n",
    "    else:\n",
    "        print 'No the number is not greater that user input'\n",
    "        return False\n",
    "    \n",
    "def less_than(x):\n",
    "    res = input('Enter a number: ')\n",
    "    if x < res:\n",
    "        print 'Yes the number is less that user input number.'\n",
    "        return True\n",
    "    else:\n",
    "        print 'No the number is not less than the user number'\n",
    "        return False\n",
    "    \n",
    "def equal_to(x):\n",
    "    res = input('Enter a number: ')\n",
    "    if x == res:\n",
    "        print 'Yes the number is equal to user input number.'\n",
    "        return True\n",
    "    else:\n",
    "        print 'No the number is not equal to user input number'\n",
    "        return False\n",
    "    \n",
    "def divisible_by(x):\n",
    "    res = input('Enter a number: ')\n",
    "    if x %res == 0:\n",
    "        print 'Yes the number is divisible by user input number.'\n",
    "        return True\n",
    "    else:\n",
    "        print 'No the number is not divisible by user input number'\n",
    "        return False\n"
   ]
  },
  {
   "cell_type": "markdown",
   "metadata": {},
   "source": [
    "*Exercise 7:* Repeat the previous exercise using `lambda` and the built-in python functions sum and map instead of your solution above. "
   ]
  },
  {
   "cell_type": "code",
   "execution_count": 99,
   "metadata": {},
   "outputs": [
    {
     "name": "stdout",
     "output_type": "stream",
     "text": [
      "Even\n",
      "True\n",
      "Not Odd\n",
      "False\n",
      "Enter a number: 2\n",
      "No the number is not greater that user input\n",
      "False\n",
      "Enter a number: 3\n",
      "Yes the number is less that user input number.\n",
      "True\n",
      "Enter a number: 4\n",
      "No the number is not equal to user input number\n",
      "False\n",
      "Enter a number: 5\n",
      "No the number is not divisible by user input number\n",
      "False\n"
     ]
    }
   ],
   "source": [
    "result = even(2)\n",
    "print result\n",
    "result = odd(2)\n",
    "print result\n",
    "result = greater_than(2)\n",
    "print result\n",
    "result = less_than(2)\n",
    "print result\n",
    "result = equal_to(2)\n",
    "print result\n",
    "result = divisible_by(2)\n",
    "print result"
   ]
  },
  {
   "cell_type": "code",
   "execution_count": 40,
   "metadata": {},
   "outputs": [
    {
     "name": "stdout",
     "output_type": "stream",
     "text": [
      "The even numbers are  [2, 58, 10]\n",
      "The odd numbers are  [11, 3, 5, 7]\n",
      "True means number in list_1 is greater than number in list_2 with same index [False, False, False, False, False, True, False]\n",
      "True means number in list_1 is less than number in list_2 with same index [True, True, True, True, True, False, True]\n",
      "True means number in list_1 is equal to number in list_2 with same index [False, False, False, False, False, False, False]\n",
      "True means number in list_1 is divisible by number in list_2 with same index [False, False, False, False, False, False, False]\n"
     ]
    }
   ],
   "source": [
    "# For lambda function we require two seperate lists to check\n",
    "\n",
    "list_1 = [11,3,5,2,7,58,10]\n",
    "list_2 = [21,34,17,13,15,4,19]\n",
    "print \"The even numbers are \",filter(lambda k: k % 2 == 0,list_1)\n",
    "print \"The odd numbers are \",filter(lambda k: k % 2 != 0,list_1)\n",
    "print \"True means number in list_1 is greater than number in list_2 with same index\", map(lambda x,y:x>y, list_1,list_2)\n",
    "print \"True means number in list_1 is less than number in list_2 with same index\",map(lambda x,y:x<y, list_1,list_2)\n",
    "print \"True means number in list_1 is equal to number in list_2 with same index\",map(lambda x,y:x==y, list_1,list_2)\n",
    "print \"True means number in list_1 is divisible by number in list_2 with same index\",map(lambda x,y:x%y==0, list_1,list_2) "
   ]
  },
  {
   "cell_type": "markdown",
   "metadata": {},
   "source": [
    "## Monte Carlo\n",
    "\n",
    "*Exercise 7:* Write a \"generator\" function called `generate_function(func,x_min,x_max,N)`, that instead of generating a flat distribution, generates a distribution with functional form coded in `func`. Note that `func` will always be > 0.  \n",
    "\n",
    "Use the test function below and your histogramming functions above to demonstrate that your generator is working properly.\n",
    "\n",
    "Hint: A simple, but slow, solution is to a draw random number test_x within the specified range and another number p between the min and max of the function (which you will have to determine). If p<=function(test_x), then place test_x on the output. If not, repeat the process, drawing two new numbers. Repeat until you have the specified number of generated numbers, N. For this problem, it's OK to determine the min and max by numerically sampling the function.  "
   ]
  },
  {
   "cell_type": "code",
   "execution_count": 92,
   "metadata": {
    "collapsed": true
   },
   "outputs": [],
   "source": [
    "def generate_function(func,x_min,x_max,N):\n",
    "    out = []\n",
    "    result = list(map(func, generate_uniform(N,x_min, x_max)))\n",
    "    p_min = min(result)\n",
    "    p_max = max(result)\n",
    "    counter=False\n",
    "    \n",
    "    while counter==False:\n",
    "        test_x=random.random()*(x_max - x_min) + x_min        \n",
    "        p=random.random()*(p_max - p_min) + p_min\n",
    "        \n",
    "        if p<=func(test_x):\n",
    "            out.append(test_x)\n",
    "            \n",
    "        if len(out)==N:\n",
    "            counter=True\n",
    "    \n",
    "    return out"
   ]
  },
  {
   "cell_type": "code",
   "execution_count": 93,
   "metadata": {},
   "outputs": [
    {
     "name": "stdout",
     "output_type": "stream",
     "text": [
      "[69, 74, 69, 71, 56, 33, 17, 16, 4, 5, 12, 29, 40, 43, 56, 67, 68, 91, 84, 96]\n",
      "[ -10.0 -9.0 ]:  #####################################################################\n",
      "[ -9.0 -8.0 ]:  ##########################################################################\n",
      "[ -8.0 -7.0 ]:  #####################################################################\n",
      "[ -7.0 -6.0 ]:  #######################################################################\n",
      "[ -6.0 -5.0 ]:  ########################################################\n",
      "[ -5.0 -4.0 ]:  #################################\n",
      "[ -4.0 -3.0 ]:  #################\n",
      "[ -3.0 -2.0 ]:  ################\n",
      "[ -2.0 -1.0 ]:  ####\n",
      "[ -1.0 0.0 ]:  #####\n",
      "[ 0.0 1.0 ]:  ############\n",
      "[ 1.0 2.0 ]:  #############################\n",
      "[ 2.0 3.0 ]:  ########################################\n",
      "[ 3.0 4.0 ]:  ###########################################\n",
      "[ 4.0 5.0 ]:  ########################################################\n",
      "[ 5.0 6.0 ]:  ###################################################################\n",
      "[ 6.0 7.0 ]:  ####################################################################\n",
      "[ 7.0 8.0 ]:  ###########################################################################################\n",
      "[ 8.0 9.0 ]:  ####################################################################################\n",
      "[ 9.0 10.0 ]:  ################################################################################################\n"
     ]
    }
   ],
   "source": [
    "# A test function\n",
    "def test_func(x,a=1,b=1):\n",
    "    return abs(a*x+b)\n",
    "data2=generate_function(test_func,-10,10,1000)\n",
    "h,b=histogram(data2,20)\n",
    "print h\n",
    "draw_histogram(h,b,20,'#',100)"
   ]
  },
  {
   "cell_type": "markdown",
   "metadata": {},
   "source": [
    "*Exercise 8:* Use your function to generate 1000 numbers that are normal distributed, using the `gaussian` function below. Confirm the mean and variance of the data is close to the mean and variance you specify when building the Gaussian. Histogram the data. "
   ]
  },
  {
   "cell_type": "code",
   "execution_count": 89,
   "metadata": {},
   "outputs": [
    {
     "name": "stdout",
     "output_type": "stream",
     "text": [
      "0.0158701521011\n",
      "0.977790799184\n",
      "[ 0 -2.86 ]:  \n",
      "[ -2.86 -2.72 ]:  #\n",
      "[ -2.72 -2.58 ]:  ##\n",
      "[ -2.58 -2.44 ]:  #\n",
      "[ -2.44 -2.3 ]:  ###\n",
      "[ -2.3 -2.16 ]:  #######\n",
      "[ -2.16 -2.02 ]:  #######\n",
      "[ -2.02 -1.88 ]:  ####\n",
      "[ -1.88 -1.74 ]:  ########\n",
      "[ -1.74 -1.6 ]:  ############\n",
      "[ -1.6 -1.46 ]:  ######################\n",
      "[ -1.46 -1.32 ]:  ##############\n",
      "[ -1.32 -1.18 ]:  #############################\n",
      "[ -1.18 -1.04 ]:  ####################################\n",
      "[ -1.04 -0.9 ]:  ###################################\n",
      "[ -0.9 -0.76 ]:  #########################################\n",
      "[ -0.76 -0.62 ]:  ############################################\n",
      "[ -0.62 -0.48 ]:  ########################################################\n",
      "[ -0.48 -0.34 ]:  #################################################\n",
      "[ -0.34 -0.2 ]:  ###############################################\n",
      "[ -0.2 -0.06 ]:  #######################################################\n",
      "[ -0.06 0.08 ]:  ##################################################\n",
      "[ 0.08 0.22 ]:  ######################################################\n",
      "[ 0.22 0.36 ]:  ##############################################################\n",
      "[ 0.36 0.5 ]:  ##################################################\n",
      "[ 0.5 0.64 ]:  ####################################################\n",
      "[ 0.64 0.78 ]:  ################################################\n",
      "[ 0.78 0.92 ]:  ################################\n",
      "[ 0.92 1.06 ]:  ##############################\n",
      "[ 1.06 1.2 ]:  #############################\n",
      "[ 1.2 1.34 ]:  #############################\n",
      "[ 1.34 1.48 ]:  ##################\n",
      "[ 1.48 1.62 ]:  ################\n",
      "[ 1.62 1.76 ]:  ###########\n",
      "[ 1.76 1.9 ]:  ###############\n",
      "[ 1.9 2.04 ]:  #######\n",
      "[ 2.04 2.18 ]:  ########\n",
      "[ 2.18 2.32 ]:  ##########\n",
      "[ 2.32 0 ]:  #\n",
      "[ 0 2.6 ]:  \n",
      "[ 2.6 2.74 ]:  ##\n",
      "[ 2.74 2.88 ]:  #\n",
      "[ 2.88 0 ]:  #\n",
      "[ 0 0 ]:  \n",
      "[ 0 0 ]:  \n",
      "[ 0 3.44 ]:  \n",
      "[ 3.44 0 ]:  #\n",
      "[ 0 0 ]:  \n",
      "[ 0 0 ]:  \n",
      "[ 0 4.0 ]:  \n",
      "7.58805162082\n",
      "64.9339003325\n",
      "[ -1.0 -0.78 ]:  #\n",
      "[ -0.78 0 ]:  ##\n",
      "[ 0 -0.34 ]:  \n",
      "[ -0.34 0 ]:  #\n",
      "[ 0 0 ]:  \n",
      "[ 0 0 ]:  \n",
      "[ 0 0.54 ]:  \n",
      "[ 0.54 0.76 ]:  #\n",
      "[ 0.76 0.98 ]:  #\n",
      "[ 0.98 1.2 ]:  #\n",
      "[ 1.2 0 ]:  #\n",
      "[ 0 1.64 ]:  \n",
      "[ 1.64 1.86 ]:  ##\n",
      "[ 1.86 2.08 ]:  #\n",
      "[ 2.08 2.3 ]:  ####\n",
      "[ 2.3 2.52 ]:  ##\n",
      "[ 2.52 2.74 ]:  ####\n",
      "[ 2.74 2.96 ]:  ####\n",
      "[ 2.96 3.18 ]:  ####\n",
      "[ 3.18 3.4 ]:  ###\n",
      "[ 3.4 3.62 ]:  #####\n",
      "[ 3.62 3.84 ]:  ############\n",
      "[ 3.84 4.06 ]:  ######\n",
      "[ 4.06 4.28 ]:  ##########\n",
      "[ 4.28 4.5 ]:  #################\n",
      "[ 4.5 4.72 ]:  ##########\n",
      "[ 4.72 4.94 ]:  ############\n",
      "[ 4.94 5.16 ]:  ############\n",
      "[ 5.16 5.38 ]:  #############\n",
      "[ 5.38 5.6 ]:  ###################\n",
      "[ 5.6 5.82 ]:  ####################\n",
      "[ 5.82 6.04 ]:  ###############################\n",
      "[ 6.04 6.26 ]:  ###################\n",
      "[ 6.26 6.48 ]:  #####################\n",
      "[ 6.48 6.7 ]:  ######################################\n",
      "[ 6.7 6.92 ]:  ###########################\n",
      "[ 6.92 7.14 ]:  #############################\n",
      "[ 7.14 7.36 ]:  ###############################################\n",
      "[ 7.36 7.58 ]:  #################################\n",
      "[ 7.58 7.8 ]:  ##################################################\n",
      "[ 7.8 8.02 ]:  ###############################################\n",
      "[ 8.02 8.24 ]:  #############################################\n",
      "[ 8.24 8.46 ]:  ######################################\n",
      "[ 8.46 8.68 ]:  ##################################################\n",
      "[ 8.68 8.9 ]:  #########################################################\n",
      "[ 8.9 9.12 ]:  ##############################################################\n",
      "[ 9.12 9.34 ]:  #######################################################\n",
      "[ 9.34 9.56 ]:  #################################################################\n",
      "[ 9.56 9.78 ]:  ############################################################\n",
      "[ 9.78 10.0 ]:  ##########################################################\n",
      "0.0\n",
      "100.0\n"
     ]
    }
   ],
   "source": [
    "import math\n",
    "\n",
    "def gaussian(mean, sigma):\n",
    "    def f(x):\n",
    "        return math.exp(-((x-mean)**2)/(2*sigma**2))/math.sqrt(math.pi*sigma)\n",
    "    return f\n",
    "\n",
    "# Example Instantiation\n",
    "g1=gaussian(0,1)\n",
    "example_1=generate_function(g1,-10,10,1000)\n",
    "print mean(example_1)\n",
    "print variance(example_1)\n",
    "h,b=histogram(example_1,50)\n",
    "draw_histogram(h,b,50,'#',150)\n",
    "\n",
    "g2=gaussian(10,3)\n",
    "example_2=generate_function(g2,-10,10,1000)\n",
    "print mean(example_2)\n",
    "print variance(example_2)\n",
    "h,b=histogram(example_2,50)\n",
    "draw_histogram(h,b,50,'#',150)\n",
    "\n",
    "\n",
    "test=(-10,10)\n",
    "print mean(test)\n",
    "print variance(test)"
   ]
  },
  {
   "cell_type": "markdown",
   "metadata": {},
   "source": [
    "*Exercise 9:* Combine your `generate_function`, `where`, and `in_range` functions above to create an integrate function. Use your integrate function to show that approximately 68% of Normal distribution is within one variance."
   ]
  },
  {
   "cell_type": "code",
   "execution_count": null,
   "metadata": {
    "collapsed": true
   },
   "outputs": [],
   "source": [
    "def integrate(func, x_min, x_max, n_points=1000):\n",
    "    \n",
    "    return integral"
   ]
  },
  {
   "cell_type": "code",
   "execution_count": null,
   "metadata": {
    "collapsed": true
   },
   "outputs": [],
   "source": []
  }
 ],
 "metadata": {
  "kernelspec": {
   "display_name": "Python 2",
   "language": "python",
   "name": "python2"
  },
  "language_info": {
   "codemirror_mode": {
    "name": "ipython",
    "version": 2
   },
   "file_extension": ".py",
   "mimetype": "text/x-python",
   "name": "python",
   "nbconvert_exporter": "python",
   "pygments_lexer": "ipython2",
   "version": "2.7.13"
  }
 },
 "nbformat": 4,
 "nbformat_minor": 2
}
